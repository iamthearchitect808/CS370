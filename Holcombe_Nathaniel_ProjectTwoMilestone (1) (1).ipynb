{
 "cells": [
  {
   "cell_type": "markdown",
   "metadata": {},
   "source": [
    "# Treasure Hunt Game Notebook\n",
    "\n",
    "## Read and Review Your Starter Code\n",
    "The theme of this project is a popular treasure hunt game in which the player needs to find the treasure before the pirate does. While you will not be developing the entire game, you will write the part of the game that represents the intelligent agent, which is a pirate in this case. The pirate will try to find the optimal path to the treasure using deep Q-learning. \n",
    "\n",
    "You have been provided with two Python classes and this notebook to help you with this assignment. The first class, TreasureMaze.py, represents the environment, which includes a maze object defined as a matrix. The second class, GameExperience.py, stores the episodes – that is, all the states that come in between the initial state and the terminal state. This is later used by the agent for learning by experience, called \"exploration\". This notebook shows how to play a game. Your task is to complete the deep Q-learning implementation for which a skeleton implementation has been provided. The code blocs you will need to complete has #TODO as a header.\n",
    "\n",
    "First, read and review the next few code and instruction blocks to understand the code that you have been given."
   ]
  },
  {
   "cell_type": "code",
   "execution_count": 20,
   "metadata": {},
   "outputs": [],
   "source": [
    "from __future__ import print_function\n",
    "import os, sys, time, datetime, json, random\n",
    "import numpy as np\n",
    "from keras.models import Sequential\n",
    "from keras.layers.core import Dense, Activation\n",
    "from keras.optimizers import SGD , Adam, RMSprop\n",
    "from keras.layers.advanced_activations import PReLU\n",
    "import matplotlib.pyplot as plt\n",
    "from TreasureMaze import TreasureMaze\n",
    "from GameExperience import GameExperience\n",
    "%matplotlib inline"
   ]
  },
  {
   "cell_type": "markdown",
   "metadata": {},
   "source": [
    "The following code block contains an 8x8 matrix that will be used as a maze object:"
   ]
  },
  {
   "cell_type": "code",
   "execution_count": 21,
   "metadata": {},
   "outputs": [],
   "source": [
    "maze = np.array([\n",
    "    [ 1.,  0.,  1.,  1.,  1.,  1.,  1.,  1.],\n",
    "    [ 1.,  0.,  1.,  1.,  1.,  0.,  1.,  1.],\n",
    "    [ 1.,  1.,  1.,  1.,  0.,  1.,  0.,  1.],\n",
    "    [ 1.,  1.,  1.,  0.,  1.,  1.,  1.,  1.],\n",
    "    [ 1.,  1.,  0.,  1.,  1.,  1.,  1.,  1.],\n",
    "    [ 1.,  1.,  1.,  0.,  1.,  0.,  0.,  0.],\n",
    "    [ 1.,  1.,  1.,  0.,  1.,  1.,  1.,  1.],\n",
    "    [ 1.,  1.,  1.,  1.,  0.,  1.,  1.,  1.]\n",
    "])"
   ]
  },
  {
   "cell_type": "markdown",
   "metadata": {},
   "source": [
    "This helper function allows a visual representation of the maze object:"
   ]
  },
  {
   "cell_type": "code",
   "execution_count": 22,
   "metadata": {},
   "outputs": [],
   "source": [
    "def show(qmaze):\n",
    "    plt.grid('on')\n",
    "    nrows, ncols = qmaze.maze.shape\n",
    "    ax = plt.gca()\n",
    "    ax.set_xticks(np.arange(0.5, nrows, 1))\n",
    "    ax.set_yticks(np.arange(0.5, ncols, 1))\n",
    "    ax.set_xticklabels([])\n",
    "    ax.set_yticklabels([])\n",
    "    canvas = np.copy(qmaze.maze)\n",
    "    for row,col in qmaze.visited:\n",
    "        canvas[row,col] = 0.6\n",
    "    pirate_row, pirate_col, _ = qmaze.state\n",
    "    canvas[pirate_row, pirate_col] = 0.3   # pirate cell\n",
    "    canvas[nrows-1, ncols-1] = 0.9 # treasure cell\n",
    "    img = plt.imshow(canvas, interpolation='none', cmap='gray')\n",
    "    return img"
   ]
  },
  {
   "cell_type": "markdown",
   "metadata": {},
   "source": [
    "The pirate agent can move in four directions: left, right, up, and down. \n",
    "\n",
    "While the agent primarily learns by experience through exploitation, often, the agent can choose to explore the environment to find previously undiscovered paths. This is called \"exploration\" and is defined by epsilon. This value is typically a lower value such as 0.1, which means for every ten attempts, the agent will attempt to learn by experience nine times and will randomly explore a new path one time. You are encouraged to try various values for the exploration factor and see how the algorithm performs."
   ]
  },
  {
   "cell_type": "code",
   "execution_count": 23,
   "metadata": {},
   "outputs": [],
   "source": [
    "LEFT = 0\n",
    "UP = 1\n",
    "RIGHT = 2\n",
    "DOWN = 3\n",
    "\n",
    "\n",
    "# Exploration factor\n",
    "epsilon = 0.1\n",
    "\n",
    "# Actions dictionary\n",
    "actions_dict = {\n",
    "    LEFT: 'left',\n",
    "    UP: 'up',\n",
    "    RIGHT: 'right',\n",
    "    DOWN: 'down',\n",
    "}\n",
    "\n",
    "num_actions = len(actions_dict)\n"
   ]
  },
  {
   "cell_type": "markdown",
   "metadata": {},
   "source": [
    "The sample code block and output below show creating a maze object and performing one action (DOWN), which returns the reward. The resulting updated environment is visualized."
   ]
  },
  {
   "cell_type": "code",
   "execution_count": 24,
   "metadata": {},
   "outputs": [
    {
     "name": "stdout",
     "output_type": "stream",
     "text": [
      "reward= -0.04\n"
     ]
    },
    {
     "data": {
      "text/plain": [
       "<matplotlib.image.AxesImage at 0x209c75ef108>"
      ]
     },
     "execution_count": 24,
     "metadata": {},
     "output_type": "execute_result"
    },
    {
     "data": {
      "image/png": "[encoded data removed]",
      "text/plain": [
       "<Figure size 432x288 with 1 Axes>"
      ]
     },
     "metadata": {
      "needs_background": "light"
     },
     "output_type": "display_data"
    }
   ],
   "source": [
    "qmaze = TreasureMaze(maze)\n",
    "canvas, reward, game_over = qmaze.act(DOWN)\n",
    "print(\"reward=\", reward)\n",
    "show(qmaze)"
   ]
  },
  {
   "cell_type": "markdown",
   "metadata": {},
   "source": [
    "This function simulates a full game based on the provided trained model. The other parameters include the TreasureMaze object and the starting position of the pirate."
   ]
  },
  {
   "cell_type": "code",
   "execution_count": 25,
   "metadata": {},
   "outputs": [],
   "source": [
    "def play_game(model, qmaze, pirate_cell):\n",
    "    qmaze.reset(pirate_cell)\n",
    "    envstate = qmaze.observe()\n",
    "    while True:\n",
    "        prev_envstate = envstate\n",
    "        # get next action\n",
    "        q = model.predict(prev_envstate)\n",
    "        action = np.argmax(q[0])\n",
    "\n",
    "        # apply action, get rewards and new state\n",
    "        envstate, reward, game_status = qmaze.act(action)\n",
    "        if game_status == 'win':\n",
    "            return True\n",
    "        elif game_status == 'lose':\n",
    "            return False"
   ]
  },
  {
   "cell_type": "markdown",
   "metadata": {},
   "source": [
    "This function helps you to determine whether the pirate can win any game at all. If your maze is not well designed, the pirate may not win any game at all. In this case, your training would not yield any result. The provided maze in this notebook ensures that there is a path to win and you can run this method to check."
   ]
  },
  {
   "cell_type": "code",
   "execution_count": 26,
   "metadata": {},
   "outputs": [],
   "source": [
    "def completion_check(model, qmaze):\n",
    "    for cell in qmaze.free_cells:\n",
    "        if not qmaze.valid_actions(cell):\n",
    "            return False\n",
    "        if not play_game(model, qmaze, cell):\n",
    "            return False\n",
    "    return True"
   ]
  },
  {
   "cell_type": "markdown",
   "metadata": {},
   "source": [
    "The code you have been given in this block will build the neural network model. Review the code and note the number of layers, as well as the activation, optimizer, and loss functions that are used to train the model."
   ]
  },
  {
   "cell_type": "code",
   "execution_count": 27,
   "metadata": {},
   "outputs": [],
   "source": [
    "def build_model(maze):\n",
    "    model = Sequential()\n",
    "    model.add(Dense(maze.size, input_shape=(maze.size,)))\n",
    "    model.add(PReLU())\n",
    "    model.add(Dense(maze.size))\n",
    "    model.add(PReLU())\n",
    "    model.add(Dense(num_actions))\n",
    "    model.compile(optimizer='adam', loss='mse')\n",
    "    return model"
   ]
  },
  {
   "cell_type": "markdown",
   "metadata": {},
   "source": [
    "# #TODO: Complete the Q-Training Algorithm Code Block\n",
    "\n",
    "This is your deep Q-learning implementation. The goal of your deep Q-learning implementation is to find the best possible navigation sequence that results in reaching the treasure cell while maximizing the reward. In your implementation, you need to determine the optimal number of epochs to achieve a 100% win rate.\n",
    "\n",
    "You will need to complete the section starting with #pseudocode. The pseudocode has been included for you."
   ]
  },
  {
   "cell_type": "code",
   "execution_count": 28,
   "metadata": {
    "scrolled": false
   },
   "outputs": [],
   "source": [
    "def qtrain(model, maze, **opt):\n",
    "\n",
    "    # exploration factor\n",
    "    global epsilon \n",
    "\n",
    "    # number of epochs\n",
    "    n_epoch = opt.get('n_epoch', 15000)\n",
    "\n",
    "    # maximum memory to store episodes\n",
    "    max_memory = opt.get('max_memory', 1000)\n",
    "\n",
    "    # maximum data size for training\n",
    "    data_size = opt.get('data_size', 50)\n",
    "\n",
    "    # start time\n",
    "    start_time = datetime.datetime.now()\n",
    "\n",
    "    # Construct environment/game from numpy array: maze (see above)\n",
    "    qmaze = TreasureMaze(maze)\n",
    "\n",
    "    # Initialize experience replay object\n",
    "    experience = GameExperience(model, max_memory=max_memory)\n",
    "    \n",
    "    win_history = []   # history of win/lose game\n",
    "    hsize = qmaze.maze.size//2   # history window size\n",
    "    win_rate = 0.0\n",
    "    \n",
    "    # pseudocode:\n",
    "    # For each epoch:\n",
    "    for epoch in range(n_epoch):\n",
    "    #   Sets starting cell for pirate.\n",
    "        flatFreeCells = [cell for row in qmaze.free_cells for cell in row]\n",
    "        pirate_cell = np.random.choice(flatFreeCells, 2, replace=False)\n",
    "    #   Reset the maze with agent set to above position\n",
    "        qmaze.reset(pirate_cell)\n",
    "    #   Utility variable for current state\n",
    "        envstate = qmaze.observe()\n",
    "    #   Performs episodes of single game until win, or lose.\n",
    "        while qmaze.game_status() == 'not_over':\n",
    "            previous_envstate = envstate\n",
    "    #       Determines actions not blocked(left, right, up, down) either by exploration or by exploitation\n",
    "            valid_actions = qmaze.valid_actions(pirate_cell)\n",
    "            if len(valid_actions) > 0:\n",
    "                random_value = random.uniform(0, 1) \n",
    "                if random_value > epsilon: \n",
    "    #               exploit for action\n",
    "                    q = model.predict(previous_envstate)\n",
    "                    action = np.argmax(q[0])\n",
    "                else:\n",
    "    #               explore for action\n",
    "                    action = random.sample(valid_actions,1)\n",
    "            else:\n",
    "    #           there are no valid actions (game over)\n",
    "                break                \n",
    "    #       Updates state, game status, and reward based on action\n",
    "            envstate, reward, game_status = qmaze.act(action)\n",
    "    #       Adds episode info to variable\n",
    "            episode = [previous_envstate, action, reward, envstate, game_status]\n",
    "    #       Stores episode in Experience replay object\n",
    "            experience.remember(episode)\n",
    "    #       Trains neural network model and evaluates loss\n",
    "            inputs, targets = experience.get_data(data_size)\n",
    "            model.fit(inputs, targets, batch_size=24, epochs=8, verbose=0)\n",
    "            loss = model.evaluate(inputs, targets, verbose=0)\n",
    "    #       Check for termination of epoch\n",
    "            if game_status == 'win':\n",
    "                win_history.append(1)\n",
    "                break\n",
    "            elif game_status == 'lose':\n",
    "                break\n",
    "\n",
    "\n",
    "    #   Print the epoch, loss, episodes, win count, and win rate for each epoch\n",
    "        dt = datetime.datetime.now() - start_time\n",
    "        t = format_time(dt.total_seconds())\n",
    "        n_episodes=max_memory\n",
    "        win_rate=(len(win_history)/hsize)*100\n",
    "        template = \"Epoch: {:03d}/{:d} | Loss: {:.4f} | Episodes: {:d} | Win count: {:d} | Win rate: {:.3f} | time: {}\"\n",
    "        print(template.format(epoch, n_epoch-1, loss, n_episodes, sum(win_history), win_rate, t))\n",
    "        \n",
    "    #   Checks whether training is complete (win rate > 100%)\n",
    "        if win_rate > 0.9 : epsilon = 0.05\n",
    "        if sum(win_history[-hsize:]) == hsize and completion_check(model, qmaze):\n",
    "            print(\"Reached 100%% win rate at epoch: %d\" % (epoch,))\n",
    "            break\n",
    "    \n",
    "    \n",
    "    #  Calculates the total time for training\n",
    "    dt = datetime.datetime.now() - start_time\n",
    "    seconds = dt.total_seconds()\n",
    "    t = format_time(seconds)\n",
    "\n",
    "    print(\"n_epoch: %d, max_mem: %d, data: %d, time: %s\" % (epoch, max_memory, data_size, t))\n",
    "    return seconds\n",
    "\n",
    "# This is a small utility for printing readable time strings:\n",
    "def format_time(seconds):\n",
    "    if seconds < 400:\n",
    "        s = float(seconds)\n",
    "        return \"%.1f seconds\" % (s,)\n",
    "    elif seconds < 4000:\n",
    "        m = seconds / 60.0\n",
    "        return \"%.2f minutes\" % (m,)\n",
    "    else:\n",
    "        h = seconds / 3600.0\n",
    "        return \"%.2f hours\" % (h,)"
   ]
  },
  {
   "cell_type": "code",
   "execution_count": null,
   "metadata": {},
   "outputs": [],
   "source": []
  },
  {
   "cell_type": "markdown",
   "metadata": {},
   "source": [
    "## Test Your Model\n",
    "\n",
    "Now we will start testing the deep Q-learning implementation. To begin, select **Cell**, then **Run All** from the menu bar. This will run your notebook. As it runs, you should see output begin to appear beneath the next few cells. The code below creates an instance of TreasureMaze."
   ]
  },
  {
   "cell_type": "code",
   "execution_count": 29,
   "metadata": {},
   "outputs": [
    {
     "data": {
      "text/plain": [
       "<matplotlib.image.AxesImage at 0x209c76542c8>"
      ]
     },
     "execution_count": 29,
     "metadata": {},
     "output_type": "execute_result"
    },
    {
     "data": {
      "image/png": "[encoded data removed]",
      "text/plain": [
       "<Figure size 432x288 with 1 Axes>"
      ]
     },
     "metadata": {
      "needs_background": "light"
     },
     "output_type": "display_data"
    }
   ],
   "source": [
    "qmaze = TreasureMaze(maze)\n",
    "show(qmaze)"
   ]
  },
  {
   "cell_type": "markdown",
   "metadata": {},
   "source": [
    "In the next code block, you will build your model and train it using deep Q-learning. Note: This step takes several minutes to fully run."
   ]
  },
  {
   "cell_type": "code",
   "execution_count": 30,
   "metadata": {},
   "outputs": [
    {
     "name": "stdout",
     "output_type": "stream",
     "text": [
      "Epoch: 000/14999 | Loss: 0.0000 | Episodes: 512 | Win count: 0 | Win rate: 0.000 | time: 11.1 seconds\n",
      "Epoch: 001/14999 | Loss: 0.0001 | Episodes: 512 | Win count: 0 | Win rate: 0.000 | time: 20.6 seconds\n",
      "Epoch: 002/14999 | Loss: 0.0003 | Episodes: 512 | Win count: 0 | Win rate: 0.000 | time: 31.3 seconds\n",
      "Epoch: 003/14999 | Loss: 0.0003 | Episodes: 512 | Win count: 0 | Win rate: 0.000 | time: 41.5 seconds\n",
      "Epoch: 004/14999 | Loss: 0.0003 | Episodes: 512 | Win count: 0 | Win rate: 0.000 | time: 41.5 seconds\n",
      "Epoch: 005/14999 | Loss: 0.0002 | Episodes: 512 | Win count: 0 | Win rate: 0.000 | time: 51.7 seconds\n",
      "Epoch: 006/14999 | Loss: 0.0007 | Episodes: 512 | Win count: 0 | Win rate: 0.000 | time: 60.9 seconds\n",
      "Epoch: 007/14999 | Loss: 0.0007 | Episodes: 512 | Win count: 0 | Win rate: 0.000 | time: 71.1 seconds\n",
      "Epoch: 008/14999 | Loss: 0.0009 | Episodes: 512 | Win count: 0 | Win rate: 0.000 | time: 81.3 seconds\n",
      "Epoch: 009/14999 | Loss: 0.0008 | Episodes: 512 | Win count: 0 | Win rate: 0.000 | time: 92.1 seconds\n",
      "Epoch: 010/14999 | Loss: 0.0001 | Episodes: 512 | Win count: 0 | Win rate: 0.000 | time: 102.2 seconds\n",
      "Epoch: 011/14999 | Loss: 0.0000 | Episodes: 512 | Win count: 0 | Win rate: 0.000 | time: 112.3 seconds\n",
      "Epoch: 012/14999 | Loss: 0.0003 | Episodes: 512 | Win count: 0 | Win rate: 0.000 | time: 123.0 seconds\n",
      "Epoch: 013/14999 | Loss: 0.0001 | Episodes: 512 | Win count: 0 | Win rate: 0.000 | time: 133.2 seconds\n",
      "Epoch: 014/14999 | Loss: 0.0002 | Episodes: 512 | Win count: 0 | Win rate: 0.000 | time: 142.8 seconds\n",
      "Epoch: 015/14999 | Loss: 0.0008 | Episodes: 512 | Win count: 0 | Win rate: 0.000 | time: 154.4 seconds\n",
      "Epoch: 016/14999 | Loss: 0.0004 | Episodes: 512 | Win count: 0 | Win rate: 0.000 | time: 166.0 seconds\n",
      "Epoch: 017/14999 | Loss: 0.0006 | Episodes: 512 | Win count: 0 | Win rate: 0.000 | time: 176.5 seconds\n",
      "Epoch: 018/14999 | Loss: 0.0003 | Episodes: 512 | Win count: 0 | Win rate: 0.000 | time: 186.8 seconds\n",
      "Epoch: 019/14999 | Loss: 0.0006 | Episodes: 512 | Win count: 0 | Win rate: 0.000 | time: 198.8 seconds\n",
      "Epoch: 020/14999 | Loss: 0.0005 | Episodes: 512 | Win count: 0 | Win rate: 0.000 | time: 209.4 seconds\n",
      "Epoch: 021/14999 | Loss: 0.0008 | Episodes: 512 | Win count: 0 | Win rate: 0.000 | time: 219.3 seconds\n",
      "Epoch: 022/14999 | Loss: 0.0123 | Episodes: 512 | Win count: 1 | Win rate: 3.125 | time: 226.8 seconds\n",
      "Epoch: 023/14999 | Loss: 0.0008 | Episodes: 512 | Win count: 1 | Win rate: 3.125 | time: 236.9 seconds\n",
      "Epoch: 024/14999 | Loss: 0.0003 | Episodes: 512 | Win count: 2 | Win rate: 6.250 | time: 237.9 seconds\n",
      "Epoch: 025/14999 | Loss: 0.0003 | Episodes: 512 | Win count: 2 | Win rate: 6.250 | time: 246.9 seconds\n",
      "Epoch: 026/14999 | Loss: 0.0009 | Episodes: 512 | Win count: 3 | Win rate: 9.375 | time: 247.1 seconds\n",
      "Epoch: 027/14999 | Loss: 0.0006 | Episodes: 512 | Win count: 3 | Win rate: 9.375 | time: 257.9 seconds\n",
      "Epoch: 028/14999 | Loss: 0.0006 | Episodes: 512 | Win count: 4 | Win rate: 12.500 | time: 258.8 seconds\n",
      "Epoch: 029/14999 | Loss: 0.0009 | Episodes: 512 | Win count: 5 | Win rate: 15.625 | time: 259.0 seconds\n",
      "Epoch: 030/14999 | Loss: 0.0002 | Episodes: 512 | Win count: 5 | Win rate: 15.625 | time: 269.7 seconds\n",
      "Epoch: 031/14999 | Loss: 0.0002 | Episodes: 512 | Win count: 5 | Win rate: 15.625 | time: 279.9 seconds\n",
      "Epoch: 032/14999 | Loss: 0.0008 | Episodes: 512 | Win count: 5 | Win rate: 15.625 | time: 289.4 seconds\n",
      "Epoch: 033/14999 | Loss: 0.0006 | Episodes: 512 | Win count: 6 | Win rate: 18.750 | time: 290.5 seconds\n",
      "Epoch: 034/14999 | Loss: 0.0003 | Episodes: 512 | Win count: 6 | Win rate: 18.750 | time: 300.4 seconds\n",
      "Epoch: 035/14999 | Loss: 0.0003 | Episodes: 512 | Win count: 6 | Win rate: 18.750 | time: 310.0 seconds\n",
      "Epoch: 036/14999 | Loss: 0.0011 | Episodes: 512 | Win count: 7 | Win rate: 21.875 | time: 319.7 seconds\n",
      "Epoch: 037/14999 | Loss: 0.0006 | Episodes: 512 | Win count: 7 | Win rate: 21.875 | time: 329.2 seconds\n",
      "Epoch: 038/14999 | Loss: 0.0009 | Episodes: 512 | Win count: 8 | Win rate: 25.000 | time: 329.5 seconds\n",
      "Epoch: 039/14999 | Loss: 0.0006 | Episodes: 512 | Win count: 8 | Win rate: 25.000 | time: 338.9 seconds\n",
      "Epoch: 040/14999 | Loss: 0.0005 | Episodes: 512 | Win count: 8 | Win rate: 25.000 | time: 348.5 seconds\n",
      "Epoch: 041/14999 | Loss: 0.0013 | Episodes: 512 | Win count: 9 | Win rate: 28.125 | time: 348.7 seconds\n",
      "Epoch: 042/14999 | Loss: 0.0011 | Episodes: 512 | Win count: 10 | Win rate: 31.250 | time: 349.4 seconds\n",
      "Epoch: 043/14999 | Loss: 0.0008 | Episodes: 512 | Win count: 10 | Win rate: 31.250 | time: 359.8 seconds\n",
      "Epoch: 044/14999 | Loss: 0.0013 | Episodes: 512 | Win count: 11 | Win rate: 34.375 | time: 359.9 seconds\n",
      "Epoch: 045/14999 | Loss: 0.0008 | Episodes: 512 | Win count: 12 | Win rate: 37.500 | time: 361.5 seconds\n",
      "Epoch: 046/14999 | Loss: 0.0006 | Episodes: 512 | Win count: 13 | Win rate: 40.625 | time: 365.2 seconds\n",
      "Epoch: 047/14999 | Loss: 0.0008 | Episodes: 512 | Win count: 13 | Win rate: 40.625 | time: 375.0 seconds\n",
      "Epoch: 048/14999 | Loss: 0.0010 | Episodes: 512 | Win count: 14 | Win rate: 43.750 | time: 379.9 seconds\n",
      "Epoch: 049/14999 | Loss: 0.0007 | Episodes: 512 | Win count: 15 | Win rate: 46.875 | time: 382.1 seconds\n",
      "Epoch: 050/14999 | Loss: 0.0004 | Episodes: 512 | Win count: 16 | Win rate: 50.000 | time: 382.9 seconds\n",
      "Epoch: 051/14999 | Loss: 0.0013 | Episodes: 512 | Win count: 17 | Win rate: 53.125 | time: 385.1 seconds\n",
      "Epoch: 052/14999 | Loss: 0.0006 | Episodes: 512 | Win count: 18 | Win rate: 56.250 | time: 393.6 seconds\n",
      "Epoch: 053/14999 | Loss: 0.0005 | Episodes: 512 | Win count: 19 | Win rate: 59.375 | time: 397.6 seconds\n",
      "Epoch: 054/14999 | Loss: 0.0013 | Episodes: 512 | Win count: 20 | Win rate: 62.500 | time: 398.7 seconds\n",
      "Epoch: 055/14999 | Loss: 0.0002 | Episodes: 512 | Win count: 20 | Win rate: 62.500 | time: 6.80 minutes\n",
      "Epoch: 056/14999 | Loss: 0.0001 | Episodes: 512 | Win count: 21 | Win rate: 65.625 | time: 6.82 minutes\n",
      "Epoch: 057/14999 | Loss: 0.0002 | Episodes: 512 | Win count: 22 | Win rate: 68.750 | time: 6.82 minutes\n",
      "Epoch: 058/14999 | Loss: 0.0001 | Episodes: 512 | Win count: 23 | Win rate: 71.875 | time: 6.83 minutes\n",
      "Epoch: 059/14999 | Loss: 0.0002 | Episodes: 512 | Win count: 24 | Win rate: 75.000 | time: 6.91 minutes\n",
      "Epoch: 060/14999 | Loss: 0.0001 | Episodes: 512 | Win count: 25 | Win rate: 78.125 | time: 6.91 minutes\n",
      "Epoch: 061/14999 | Loss: 0.0001 | Episodes: 512 | Win count: 25 | Win rate: 78.125 | time: 7.08 minutes\n",
      "Epoch: 062/14999 | Loss: 0.0002 | Episodes: 512 | Win count: 26 | Win rate: 81.250 | time: 7.10 minutes\n",
      "Epoch: 063/14999 | Loss: 0.0002 | Episodes: 512 | Win count: 27 | Win rate: 84.375 | time: 7.25 minutes\n",
      "Epoch: 064/14999 | Loss: 0.0005 | Episodes: 512 | Win count: 28 | Win rate: 87.500 | time: 7.26 minutes\n",
      "Epoch: 065/14999 | Loss: 0.0004 | Episodes: 512 | Win count: 29 | Win rate: 90.625 | time: 7.27 minutes\n",
      "Epoch: 066/14999 | Loss: 0.0001 | Episodes: 512 | Win count: 30 | Win rate: 93.750 | time: 7.29 minutes\n",
      "Epoch: 067/14999 | Loss: 0.0002 | Episodes: 512 | Win count: 31 | Win rate: 96.875 | time: 7.30 minutes\n",
      "Epoch: 068/14999 | Loss: 0.0003 | Episodes: 512 | Win count: 32 | Win rate: 100.000 | time: 7.43 minutes\n",
      "Epoch: 069/14999 | Loss: 0.0004 | Episodes: 512 | Win count: 33 | Win rate: 103.125 | time: 7.46 minutes\n",
      "Epoch: 070/14999 | Loss: 0.0004 | Episodes: 512 | Win count: 34 | Win rate: 106.250 | time: 7.48 minutes\n",
      "Epoch: 071/14999 | Loss: 0.0004 | Episodes: 512 | Win count: 35 | Win rate: 109.375 | time: 7.52 minutes\n",
      "Epoch: 072/14999 | Loss: 0.0004 | Episodes: 512 | Win count: 36 | Win rate: 112.500 | time: 7.52 minutes\n",
      "Epoch: 073/14999 | Loss: 0.0003 | Episodes: 512 | Win count: 37 | Win rate: 115.625 | time: 7.55 minutes\n",
      "Epoch: 074/14999 | Loss: 0.0010 | Episodes: 512 | Win count: 38 | Win rate: 118.750 | time: 7.55 minutes\n",
      "Epoch: 075/14999 | Loss: 0.0001 | Episodes: 512 | Win count: 39 | Win rate: 121.875 | time: 7.58 minutes\n",
      "Epoch: 076/14999 | Loss: 0.0013 | Episodes: 512 | Win count: 40 | Win rate: 125.000 | time: 7.64 minutes\n",
      "Epoch: 077/14999 | Loss: 0.0010 | Episodes: 512 | Win count: 41 | Win rate: 128.125 | time: 7.68 minutes\n",
      "Epoch: 078/14999 | Loss: 0.0012 | Episodes: 512 | Win count: 42 | Win rate: 131.250 | time: 7.69 minutes\n",
      "Epoch: 079/14999 | Loss: 0.0003 | Episodes: 512 | Win count: 43 | Win rate: 134.375 | time: 7.70 minutes\n",
      "Epoch: 080/14999 | Loss: 0.0009 | Episodes: 512 | Win count: 44 | Win rate: 137.500 | time: 7.79 minutes\n",
      "Epoch: 081/14999 | Loss: 0.0007 | Episodes: 512 | Win count: 45 | Win rate: 140.625 | time: 7.82 minutes\n",
      "Epoch: 082/14999 | Loss: 0.0019 | Episodes: 512 | Win count: 46 | Win rate: 143.750 | time: 7.82 minutes\n",
      "Epoch: 083/14999 | Loss: 0.0010 | Episodes: 512 | Win count: 47 | Win rate: 146.875 | time: 7.85 minutes\n",
      "Epoch: 084/14999 | Loss: 0.0003 | Episodes: 512 | Win count: 48 | Win rate: 150.000 | time: 7.88 minutes\n",
      "Epoch: 085/14999 | Loss: 0.0031 | Episodes: 512 | Win count: 49 | Win rate: 153.125 | time: 7.90 minutes\n",
      "Epoch: 086/14999 | Loss: 0.0004 | Episodes: 512 | Win count: 50 | Win rate: 156.250 | time: 7.90 minutes\n",
      "Epoch: 087/14999 | Loss: 0.0006 | Episodes: 512 | Win count: 51 | Win rate: 159.375 | time: 7.91 minutes\n",
      "Epoch: 088/14999 | Loss: 0.0006 | Episodes: 512 | Win count: 52 | Win rate: 162.500 | time: 7.94 minutes\n",
      "Epoch: 089/14999 | Loss: 0.0003 | Episodes: 512 | Win count: 53 | Win rate: 165.625 | time: 7.95 minutes\n",
      "Epoch: 090/14999 | Loss: 0.0007 | Episodes: 512 | Win count: 54 | Win rate: 168.750 | time: 7.97 minutes\n",
      "Epoch: 091/14999 | Loss: 0.0070 | Episodes: 512 | Win count: 55 | Win rate: 171.875 | time: 7.99 minutes\n",
      "Epoch: 092/14999 | Loss: 0.0066 | Episodes: 512 | Win count: 56 | Win rate: 175.000 | time: 8.02 minutes\n",
      "Epoch: 093/14999 | Loss: 0.0006 | Episodes: 512 | Win count: 57 | Win rate: 178.125 | time: 8.05 minutes\n",
      "Epoch: 094/14999 | Loss: 0.0002 | Episodes: 512 | Win count: 58 | Win rate: 181.250 | time: 8.07 minutes\n",
      "Reached 100% win rate at epoch: 94\n",
      "n_epoch: 94, max_mem: 512, data: 32, time: 8.08 minutes\n"
     ]
    },
    {
     "data": {
      "text/plain": [
       "484.619819"
      ]
     },
     "execution_count": 30,
     "metadata": {},
     "output_type": "execute_result"
    }
   ],
   "source": [
    "model = build_model(maze)\n",
    "qtrain(model, maze, epochs=1000, max_memory=8*maze.size, data_size=32)"
   ]
  },
  {
   "cell_type": "markdown",
   "metadata": {},
   "source": [
    "This cell will check to see if the model passes the completion check. Note: This could take several minutes."
   ]
  },
  {
   "cell_type": "code",
   "execution_count": 31,
   "metadata": {},
   "outputs": [
    {
     "data": {
      "text/plain": [
       "<matplotlib.image.AxesImage at 0x209c769f9c8>"
      ]
     },
     "execution_count": 31,
     "metadata": {},
     "output_type": "execute_result"
    },
    {
     "data": {
      "image/png": "[encoded data removed]",
      "text/plain": [
       "<Figure size 432x288 with 1 Axes>"
      ]
     },
     "metadata": {
      "needs_background": "light"
     },
     "output_type": "display_data"
    }
   ],
   "source": [
    "completion_check(model, qmaze)\n",
    "show(qmaze)"
   ]
  },
  {
   "cell_type": "markdown",
   "metadata": {},
   "source": [
    "This cell will test your model for one game. It will start the pirate at the top-left corner and run play_game. The agent should find a path from the starting position to the target (treasure). The treasure is located in the bottom-right corner."
   ]
  },
  {
   "cell_type": "code",
   "execution_count": 32,
   "metadata": {},
   "outputs": [
    {
     "data": {
      "text/plain": [
       "<matplotlib.image.AxesImage at 0x209c8be14c8>"
      ]
     },
     "execution_count": 32,
     "metadata": {},
     "output_type": "execute_result"
    },
    {
     "data": {
      "image/png": "[encoded data removed]",
      "text/plain": [
       "<Figure size 432x288 with 1 Axes>"
      ]
     },
     "metadata": {
      "needs_background": "light"
     },
     "output_type": "display_data"
    }
   ],
   "source": [
    "pirate_start = (0, 0)\n",
    "play_game(model, qmaze, pirate_start)\n",
    "show(qmaze)"
   ]
  },
  {
   "cell_type": "markdown",
   "metadata": {},
   "source": [
    "## Save and Submit Your Work\n",
    "After you have finished creating the code for your notebook, save your work. Make sure that your notebook contains your name in the filename (e.g. Doe_Jane_ProjectTwo.ipynb). This will help your instructor access and grade your work easily. Download a copy of your IPYNB file and submit it to Brightspace. Refer to the Jupyter Notebook in Apporto Tutorial if you need help with these tasks."
   ]
  }
 ],
 "metadata": {
  "kernelspec": {
   "display_name": "Python 3",
   "language": "python",
   "name": "python3"
  },
  "language_info": {
   "codemirror_mode": {
    "name": "ipython",
    "version": 3
   },
   "file_extension": ".py",
   "mimetype": "text/x-python",
   "name": "python",
   "nbconvert_exporter": "python",
   "pygments_lexer": "ipython3",
   "version": "3.7.4"
  }
 },
 "nbformat": 4,
 "nbformat_minor": 2
}
